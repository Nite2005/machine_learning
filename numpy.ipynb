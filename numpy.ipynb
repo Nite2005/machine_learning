{
 "cells": [
  {
   "cell_type": "code",
   "execution_count": 2,
   "id": "ba51091b-1c68-4160-a478-a53e6b059217",
   "metadata": {},
   "outputs": [
    {
     "name": "stdout",
     "output_type": "stream",
     "text": [
      "Defaulting to user installation because normal site-packages is not writeable\n",
      "Requirement already satisfied: numpy in c:\\programdata\\anaconda3\\lib\\site-packages (1.26.4)\n"
     ]
    }
   ],
   "source": [
    "!pip3 install numpy\n"
   ]
  },
  {
   "cell_type": "markdown",
   "id": "7665b399-da55-4bd2-b554-547b1a961c19",
   "metadata": {},
   "source": [
    "##Now  we start numpy\n"
   ]
  },
  {
   "cell_type": "code",
   "execution_count": 1,
   "id": "a76c51a9-8547-4407-abf7-462c64746643",
   "metadata": {},
   "outputs": [],
   "source": [
    "import numpy as np"
   ]
  },
  {
   "cell_type": "code",
   "execution_count": 6,
   "id": "0911defc-b418-45bc-a84a-f100960cf967",
   "metadata": {},
   "outputs": [],
   "source": [
    "arr=np.array([[1,2,3],#way of representing 2d array\n",
    "            [4,5,6]])"
   ]
  },
  {
   "cell_type": "code",
   "execution_count": 7,
   "id": "a57ae8a1-4e5d-489b-a189-a907e16f4f2c",
   "metadata": {},
   "outputs": [
    {
     "data": {
      "text/plain": [
       "numpy.ndarray"
      ]
     },
     "execution_count": 7,
     "metadata": {},
     "output_type": "execute_result"
    }
   ],
   "source": [
    "type(arr)#printing the type of the array"
   ]
  },
  {
   "cell_type": "code",
   "execution_count": 8,
   "id": "6cd4f23b-e8a8-42a5-8d85-59009e9f02b5",
   "metadata": {},
   "outputs": [
    {
     "data": {
      "text/plain": [
       "2"
      ]
     },
     "execution_count": 8,
     "metadata": {},
     "output_type": "execute_result"
    }
   ],
   "source": [
    "arr.ndim#printing the dimension of the array"
   ]
  },
  {
   "cell_type": "code",
   "execution_count": 9,
   "id": "28c100b9-6888-4284-9aec-7241d14a5932",
   "metadata": {},
   "outputs": [
    {
     "data": {
      "text/plain": [
       "(2, 3)"
      ]
     },
     "execution_count": 9,
     "metadata": {},
     "output_type": "execute_result"
    }
   ],
   "source": [
    "arr.shape#printing the shape of the array rows and column"
   ]
  },
  {
   "cell_type": "code",
   "execution_count": 11,
   "id": "6c044bb4-cdc8-4c59-8a3f-ad44367653b0",
   "metadata": {},
   "outputs": [],
   "source": [
    "arr1=np.array([1,23,3])#way of representing 1d array"
   ]
  },
  {
   "cell_type": "code",
   "execution_count": 12,
   "id": "4f9a24ff-341e-48b4-adbe-215e192b3780",
   "metadata": {},
   "outputs": [
    {
     "data": {
      "text/plain": [
       "(3,)"
      ]
     },
     "execution_count": 12,
     "metadata": {},
     "output_type": "execute_result"
    }
   ],
   "source": [
    "arr1.shape"
   ]
  },
  {
   "cell_type": "code",
   "execution_count": 13,
   "id": "2f7c6e13-c4f3-4aab-9d44-33988fd903a5",
   "metadata": {},
   "outputs": [
    {
     "data": {
      "text/plain": [
       "dtype('int32')"
      ]
     },
     "execution_count": 13,
     "metadata": {},
     "output_type": "execute_result"
    }
   ],
   "source": [
    "arr.dtype#printing the type of element present in array"
   ]
  },
  {
   "cell_type": "code",
   "execution_count": 15,
   "id": "d35c65ea-f655-4fc3-a9ef-65daf3b6a727",
   "metadata": {},
   "outputs": [
    {
     "name": "stdout",
     "output_type": "stream",
     "text": [
      "Array ceated using passed list: \n",
      " [[1. 2. 3. 4.]\n",
      " [3. 4. 4. 5.]]\n"
     ]
    }
   ],
   "source": [
    "#creating array for list with type float\n",
    "a=np.array([[1,2,3,4],[3,4,4,5]],dtype='float')\n",
    "print(\"Array ceated using passed list: \\n\",a)"
   ]
  },
  {
   "cell_type": "code",
   "execution_count": 16,
   "id": "de28d848-56ba-43ff-83b7-7666424eafab",
   "metadata": {},
   "outputs": [
    {
     "name": "stdout",
     "output_type": "stream",
     "text": [
      "Array created using tuple: \n",
      " [1 2 3 4]\n"
     ]
    }
   ],
   "source": [
    "#creating array from tuple\n",
    "b=np.array((1,2,3,4))\n",
    "print(\"Array created using tuple: \\n\",b)"
   ]
  },
  {
   "cell_type": "code",
   "execution_count": 18,
   "id": "b029d159-6acf-40ab-9d0e-f3c6abdb94b2",
   "metadata": {},
   "outputs": [
    {
     "name": "stdout",
     "output_type": "stream",
     "text": [
      "an array initialized with all zeroe:\n",
      " [[0. 0. 0. 0.]\n",
      " [0. 0. 0. 0.]\n",
      " [0. 0. 0. 0.]]\n"
     ]
    }
   ],
   "source": [
    "#creating array of 3X4 with all zeros\n",
    "c=np.zeros((3,4))\n",
    "print(\"an array initialized with all zeroe:\\n\",c)"
   ]
  },
  {
   "cell_type": "code",
   "execution_count": 21,
   "id": "585c0425-5d07-49fb-9a42-ccc4d052137a",
   "metadata": {},
   "outputs": [
    {
     "name": "stdout",
     "output_type": "stream",
     "text": [
      "Random array : \n",
      " [[0.99700366 0.22940383]\n",
      " [0.85480422 0.68452872]]\n"
     ]
    }
   ],
   "source": [
    "#create an array with random values\n",
    "d=np.random.random((2,2))\n",
    "print(\"Random array : \\n\",d)"
   ]
  },
  {
   "cell_type": "code",
   "execution_count": 24,
   "id": "e87aca99-0b1d-48ce-af78-0fe77b303441",
   "metadata": {},
   "outputs": [
    {
     "name": "stdout",
     "output_type": "stream",
     "text": [
      "array initialized with all 6 .Array type is complex: \n",
      "  [[6.+0.j 6.+0.j 6.+0.j 6.+0.j]\n",
      " [6.+0.j 6.+0.j 6.+0.j 6.+0.j]\n",
      " [6.+0.j 6.+0.j 6.+0.j 6.+0.j]]\n"
     ]
    }
   ],
   "source": [
    "#create a constant value array of complex type \n",
    "e=np.full((3,4),6,dtype='complex')\n",
    "print(\"array initialized with all 6 .Array type is complex: \\n \",e)"
   ]
  },
  {
   "cell_type": "code",
   "execution_count": 26,
   "id": "fb12fb09-2daf-460b-b049-cb6dea3cef00",
   "metadata": {},
   "outputs": [
    {
     "name": "stdout",
     "output_type": "stream",
     "text": [
      "sequential array with steps of 5: \n",
      " [ 0  5 10 15 20 25]\n"
     ]
    }
   ],
   "source": [
    "#create a sequence of integers from 0 to 30 with steps of 5\n",
    "f=np.arange(0,30,5)\n",
    "print(\"sequential array with steps of 5: \\n\",f)"
   ]
  },
  {
   "cell_type": "code",
   "execution_count": 27,
   "id": "52d99f4b-d655-4893-ab2e-ac98d4d4c538",
   "metadata": {},
   "outputs": [
    {
     "name": "stdout",
     "output_type": "stream",
     "text": [
      "a sequential array with 10 values b/w 0 and 5:\n",
      " [0.         0.55555556 1.11111111 1.66666667 2.22222222 2.77777778\n",
      " 3.33333333 3.88888889 4.44444444 5.        ]\n"
     ]
    }
   ],
   "source": [
    "#create a sequence of 10 values in range 0 to 5\n",
    "g=np.linspace(0,5,10)\n",
    "print(\"a sequential array with 10 values b/w 0 and 5:\\n\",g)"
   ]
  },
  {
   "cell_type": "code",
   "execution_count": 28,
   "id": "bcd2f029-7d4d-40eb-8cb7-1e1f328a5535",
   "metadata": {},
   "outputs": [
    {
     "data": {
      "text/plain": [
       "array([[1., 1., 1., 1.],\n",
       "       [1., 1., 1., 1.],\n",
       "       [1., 1., 1., 1.]])"
      ]
     },
     "execution_count": 28,
     "metadata": {},
     "output_type": "execute_result"
    }
   ],
   "source": [
    "np.ones((3,4))#all elements in the array "
   ]
  },
  {
   "cell_type": "code",
   "execution_count": 29,
   "id": "1abd250b-2509-4cbe-9550-e0c61c5ef978",
   "metadata": {},
   "outputs": [
    {
     "data": {
      "text/plain": [
       "array([[1., 0., 0.],\n",
       "       [0., 1., 0.],\n",
       "       [0., 0., 1.]])"
      ]
     },
     "execution_count": 29,
     "metadata": {},
     "output_type": "execute_result"
    }
   ],
   "source": [
    "np.eye(3)#indentity matrix create "
   ]
  },
  {
   "cell_type": "code",
   "execution_count": 37,
   "id": "e6411001-e0e7-4d13-b07c-2b618a623ca8",
   "metadata": {},
   "outputs": [
    {
     "name": "stdout",
     "output_type": "stream",
     "text": [
      "original array\n",
      " [[ 1  2  3  3]\n",
      " [ 2  2  2  2]\n",
      " [ 4 43  3  5]]\n",
      "Reshaped array\n",
      " [[ 1  2  3]\n",
      " [ 3  2  2]\n",
      " [ 2  2  4]\n",
      " [43  3  5]]\n"
     ]
    }
   ],
   "source": [
    "ar=np.array([[1,2,3,3],[2,2,2,2],[4,43,3,5]])\n",
    "newarr=ar.reshape((4,3))\n",
    "print(\"original array\\n\",ar)\n",
    "print(\"Reshaped array\\n\",newarr)"
   ]
  },
  {
   "cell_type": "code",
   "execution_count": 40,
   "id": "c40e74ad-78fd-45fe-afe9-4d5f904d85f8",
   "metadata": {},
   "outputs": [
    {
     "name": "stdout",
     "output_type": "stream",
     "text": [
      "\n",
      "original array:\n",
      " [[1 2 3]\n",
      " [3 4 5]]\n",
      "flattend array:\n",
      " [1 2 3 3 4 5]\n"
     ]
    }
   ],
   "source": [
    "ar1=np.array([[1,2,3],[3,4,5]])\n",
    "flarr=ar1.flatten()\n",
    "print(\"\\noriginal array:\\n\",ar1)\n",
    "print(\"flattend array:\\n\",flarr)"
   ]
  },
  {
   "cell_type": "code",
   "execution_count": 42,
   "id": "4a9b5d55-9041-461e-aabb-94ceae2aa4c0",
   "metadata": {},
   "outputs": [],
   "source": [
    "arr=np.array([[2,3,4,5],[2,3,4,4],[4,5,5,6],[4,5,6,7]])\n",
    "\n"
   ]
  },
  {
   "cell_type": "code",
   "execution_count": 52,
   "id": "9dd999b2-42db-459e-be4f-9d3482e4f767",
   "metadata": {},
   "outputs": [
    {
     "data": {
      "text/plain": [
       "array([[2]])"
      ]
     },
     "execution_count": 52,
     "metadata": {},
     "output_type": "execute_result"
    }
   ],
   "source": [
    "arr[0:1:1,0:1:1]"
   ]
  },
  {
   "cell_type": "code",
   "execution_count": 61,
   "id": "2753fd15-cd34-4c9f-a737-dd15308d23f2",
   "metadata": {},
   "outputs": [],
   "source": [
    "a=np.array([1,2,3,4])\n"
   ]
  },
  {
   "cell_type": "code",
   "execution_count": 62,
   "id": "c05411dd-ae9a-476f-9cf5-1373d7018977",
   "metadata": {},
   "outputs": [
    {
     "data": {
      "text/plain": [
       "array([2, 3, 4, 5])"
      ]
     },
     "execution_count": 62,
     "metadata": {},
     "output_type": "execute_result"
    }
   ],
   "source": [
    "a+1#adding  1 on every element"
   ]
  },
  {
   "cell_type": "code",
   "execution_count": 63,
   "id": "f490b68b-23dd-4917-8ec9-203c4f10c7dd",
   "metadata": {},
   "outputs": [
    {
     "data": {
      "text/plain": [
       "array([-2, -1,  0,  1])"
      ]
     },
     "execution_count": 63,
     "metadata": {},
     "output_type": "execute_result"
    }
   ],
   "source": [
    "a-3#subtracting 3 from each element"
   ]
  },
  {
   "cell_type": "code",
   "execution_count": 64,
   "id": "3f65f960-c838-4458-bb9b-30a4ccd79471",
   "metadata": {},
   "outputs": [
    {
     "data": {
      "text/plain": [
       "array([10, 20, 30, 40])"
      ]
     },
     "execution_count": 64,
     "metadata": {},
     "output_type": "execute_result"
    }
   ],
   "source": [
    "a*10#multiplying each element by 10"
   ]
  },
  {
   "cell_type": "code",
   "execution_count": 65,
   "id": "3918fbba-e42f-4fbb-99f3-e611e2f0c6ce",
   "metadata": {},
   "outputs": [
    {
     "data": {
      "text/plain": [
       "array([ 1,  4,  9, 16])"
      ]
     },
     "execution_count": 65,
     "metadata": {},
     "output_type": "execute_result"
    }
   ],
   "source": [
    "a**2#squaring each element"
   ]
  },
  {
   "cell_type": "code",
   "execution_count": 68,
   "id": "b6fe52f7-46a6-441e-8510-91bf6761a3b4",
   "metadata": {},
   "outputs": [
    {
     "data": {
      "text/plain": [
       "array([10, 12, 14, 16])"
      ]
     },
     "execution_count": 68,
     "metadata": {},
     "output_type": "execute_result"
    }
   ],
   "source": [
    "a*2#doubled each element"
   ]
  },
  {
   "cell_type": "code",
   "execution_count": 77,
   "id": "a74abd08-82a0-47b7-9921-059bb04d66f2",
   "metadata": {},
   "outputs": [],
   "source": [
    "a=np.array([[1,2,3,4],[4,5,6,7]])\n",
    "b=np.array([[2,3,4,5],[2,3,4,1]])"
   ]
  },
  {
   "cell_type": "code",
   "execution_count": 78,
   "id": "945445a3-bbfd-4b64-aad9-b42dcf4a3a6f",
   "metadata": {},
   "outputs": [
    {
     "data": {
      "text/plain": [
       "array([[ 2,  6, 12, 20],\n",
       "       [ 8, 15, 24,  7]])"
      ]
     },
     "execution_count": 78,
     "metadata": {},
     "output_type": "execute_result"
    }
   ],
   "source": [
    "a*b"
   ]
  },
  {
   "cell_type": "code",
   "execution_count": 79,
   "id": "aafdd5cd-36d6-47ab-93b2-3282503d8383",
   "metadata": {},
   "outputs": [
    {
     "data": {
      "text/plain": [
       "array([[ 3,  5,  7,  9],\n",
       "       [ 6,  8, 10,  8]])"
      ]
     },
     "execution_count": 79,
     "metadata": {},
     "output_type": "execute_result"
    }
   ],
   "source": [
    "a+b"
   ]
  },
  {
   "cell_type": "code",
   "execution_count": 80,
   "id": "d03e8702-1c1d-4d96-b32d-1d5a9130bc86",
   "metadata": {},
   "outputs": [
    {
     "data": {
      "text/plain": [
       "array([[ 2,  6, 12, 20],\n",
       "       [ 8, 15, 24,  7]])"
      ]
     },
     "execution_count": 80,
     "metadata": {},
     "output_type": "execute_result"
    }
   ],
   "source": [
    "a*b"
   ]
  },
  {
   "cell_type": "code",
   "execution_count": 81,
   "id": "f66dbdd5-ddf8-4aeb-9d4f-d9ab9f3d82d3",
   "metadata": {},
   "outputs": [
    {
     "ename": "ValueError",
     "evalue": "shapes (2,4) and (2,4) not aligned: 4 (dim 1) != 2 (dim 0)",
     "output_type": "error",
     "traceback": [
      "\u001b[1;31m---------------------------------------------------------------------------\u001b[0m",
      "\u001b[1;31mValueError\u001b[0m                                Traceback (most recent call last)",
      "Cell \u001b[1;32mIn[81], line 1\u001b[0m\n\u001b[1;32m----> 1\u001b[0m a\u001b[38;5;241m.\u001b[39mdot(b)\n",
      "\u001b[1;31mValueError\u001b[0m: shapes (2,4) and (2,4) not aligned: 4 (dim 1) != 2 (dim 0)"
     ]
    }
   ],
   "source": [
    "a.dot(b)"
   ]
  },
  {
   "cell_type": "code",
   "execution_count": 82,
   "id": "a2b98fe0-6379-4d3f-bf33-7b7c547cc7dc",
   "metadata": {},
   "outputs": [
    {
     "name": "stdout",
     "output_type": "stream",
     "text": [
      "sine values of array elements:  [0.0000000e+00 1.0000000e+00 1.2246468e-16]\n"
     ]
    }
   ],
   "source": [
    "#create an array of sine values\n",
    "a=np.array([0,np.pi/2,np.pi])\n",
    "print(\"sine values of array elements: \",np.sin(a))"
   ]
  },
  {
   "cell_type": "code",
   "execution_count": 83,
   "id": "1e5b3c4e-90f2-46d4-99b7-300357194e77",
   "metadata": {},
   "outputs": [
    {
     "name": "stdout",
     "output_type": "stream",
     "text": [
      "exponent of array elements:  [ 1.          2.71828183  7.3890561  20.08553692]\n"
     ]
    }
   ],
   "source": [
    "#exponential values\n",
    "a=np.array([0,1,2,3])\n",
    "print(\"exponent of array elements: \",np.exp(a))"
   ]
  },
  {
   "cell_type": "code",
   "execution_count": 84,
   "id": "a9ef052c-734b-4f9c-95fc-a962290fa04f",
   "metadata": {},
   "outputs": [
    {
     "name": "stdout",
     "output_type": "stream",
     "text": [
      "square root of array elements:  [0.         1.         1.41421356 1.73205081]\n"
     ]
    }
   ],
   "source": [
    "#square root of array values\n",
    "print(\"square root of array elements: \",np.sqrt(a))"
   ]
  },
  {
   "cell_type": "code",
   "execution_count": 87,
   "id": "7f654bad-ff72-4875-89a7-e86d91f91bba",
   "metadata": {},
   "outputs": [
    {
     "name": "stdout",
     "output_type": "stream",
     "text": [
      "Array elements in sorted order:\n",
      " [ 1  4  5 23]\n"
     ]
    }
   ],
   "source": [
    "#sort array\n",
    "b=np.array([1,23,4,5])\n",
    "print(\"Array elements in sorted order:\\n\",np.sort(b,axis=None))"
   ]
  },
  {
   "cell_type": "code",
   "execution_count": 89,
   "id": "a8e18205-4a72-47dc-b9f2-032706260375",
   "metadata": {},
   "outputs": [
    {
     "name": "stdout",
     "output_type": "stream",
     "text": [
      "row wise sorted array [[1 2 2 3 4]\n",
      " [1 2 2 3 3]]\n"
     ]
    }
   ],
   "source": [
    "#sort array row wise\n",
    "a=np.array([[1,2,4,3,2],[2,1,3,2,3]])\n",
    "print(\"row wise sorted array\",np.sort(a,axis=1))"
   ]
  },
  {
   "cell_type": "code",
   "execution_count": 91,
   "id": "f68c25a4-79ba-41ad-93ae-15a550c970ba",
   "metadata": {},
   "outputs": [
    {
     "name": "stdout",
     "output_type": "stream",
     "text": [
      "column wise sort by applying range-sort:\n",
      " [[1 1 3 2 2]\n",
      " [2 2 4 3 3]]\n"
     ]
    }
   ],
   "source": [
    "#specify sort algorithm\n",
    "print(\"column wise sort by applying range-sort:\\n\",np.sort(a,axis=0,kind='mergesort'))"
   ]
  },
  {
   "cell_type": "markdown",
   "id": "d1a297c0-5d23-487c-b320-c931b8727234",
   "metadata": {},
   "source": [
    "##stacking and splitting"
   ]
  },
  {
   "cell_type": "code",
   "execution_count": 93,
   "id": "93d9fdb0-50be-4571-9dd1-0b4746e3cf93",
   "metadata": {},
   "outputs": [],
   "source": [
    "a=np.array([[1,2],[3,4]])\n",
    "b=np.array([[5,6],[7,8]])"
   ]
  },
  {
   "cell_type": "code",
   "execution_count": 94,
   "id": "fd829f4c-d501-454d-ae45-cb78813f93fd",
   "metadata": {},
   "outputs": [
    {
     "name": "stdout",
     "output_type": "stream",
     "text": [
      "vertical stacking\n",
      " [[1 2]\n",
      " [3 4]\n",
      " [5 6]\n",
      " [7 8]]\n"
     ]
    }
   ],
   "source": [
    "#vertical stacking\n",
    "print(\"vertical stacking\\n\",np.vstack((a,b)))"
   ]
  },
  {
   "cell_type": "code",
   "execution_count": 95,
   "id": "d48bcadc-61ca-42d7-a0e4-93a1f89923e5",
   "metadata": {},
   "outputs": [
    {
     "name": "stdout",
     "output_type": "stream",
     "text": [
      "horizontal stacking:\n",
      " [[1 2 5 6]\n",
      " [3 4 7 8]]\n"
     ]
    }
   ],
   "source": [
    "#horizontal stacking\n",
    "print(\"horizontal stacking:\\n\",np.hstack((a,b)))"
   ]
  },
  {
   "cell_type": "code",
   "execution_count": 97,
   "id": "b7904dfe-298b-4802-8524-3820948bcecb",
   "metadata": {},
   "outputs": [
    {
     "name": "stdout",
     "output_type": "stream",
     "text": [
      "column stacking\n",
      " [[1 2 5 6]\n",
      " [3 4 7 8]]\n"
     ]
    }
   ],
   "source": [
    "#stacking columns\n",
    "print(\"column stacking\\n\",np.column_stack((a,b)))"
   ]
  },
  {
   "cell_type": "code",
   "execution_count": 99,
   "id": "a0664f7b-1387-4b0c-a489-5a628d5c1492",
   "metadata": {},
   "outputs": [
    {
     "name": "stdout",
     "output_type": "stream",
     "text": [
      "concatenating to 2nd axis:\n",
      " [[1 2 5 6]\n",
      " [3 4 7 8]]\n"
     ]
    }
   ],
   "source": [
    "#concatentaion method\n",
    "print(\"concatenating to 2nd axis:\\n\",np.concatenate((a,b),1))"
   ]
  },
  {
   "cell_type": "code",
   "execution_count": 101,
   "id": "6a678f41-a2eb-47c2-8489-3a8122761266",
   "metadata": {},
   "outputs": [
    {
     "name": "stdout",
     "output_type": "stream",
     "text": [
      "spliting along horizontal axis into 2 parts\n",
      " [array([[1],\n",
      "       [3]]), array([[2],\n",
      "       [4]])]\n"
     ]
    }
   ],
   "source": [
    "#horizontal spliting\n",
    "print(\"spliting along horizontal axis into 2 parts\\n\",np.hsplit(a,2))"
   ]
  },
  {
   "cell_type": "code",
   "execution_count": 102,
   "id": "aaeefcc8-4442-4165-a401-dcd29998835a",
   "metadata": {},
   "outputs": [
    {
     "name": "stdout",
     "output_type": "stream",
     "text": [
      "spliting along vertical axis into 2 parts\n",
      " [array([[1, 2]]), array([[3, 4]])]\n"
     ]
    }
   ],
   "source": [
    "#vertical spliting\n",
    "print(\"spliting along vertical axis into 2 parts\\n\",np.vsplit(a,2))"
   ]
  },
  {
   "cell_type": "code",
   "execution_count": 104,
   "id": "3a604138-370f-4cf1-8766-0c8dc17fdffb",
   "metadata": {},
   "outputs": [
    {
     "name": "stdout",
     "output_type": "stream",
     "text": [
      "0\n"
     ]
    }
   ],
   "source": [
    "a=np.array([[1,2,3,4],[7,6,2,0]])\n",
    "print(np.min(a))#find min value in the array"
   ]
  },
  {
   "cell_type": "code",
   "execution_count": 105,
   "id": "bed3bc13-3c1b-4443-adf0-39e7aca60533",
   "metadata": {},
   "outputs": [
    {
     "name": "stdout",
     "output_type": "stream",
     "text": [
      "[1 2 2 0]\n",
      "[1 0]\n"
     ]
    }
   ],
   "source": [
    "#specify axis for the direction in case of multidim array\n",
    "print(np.min(a,axis=0))\n",
    "print(np.min(a,axis=1))"
   ]
  },
  {
   "cell_type": "code",
   "execution_count": 108,
   "id": "c4afc98c-04ff-448d-a9bf-056d4078d070",
   "metadata": {},
   "outputs": [
    {
     "name": "stdout",
     "output_type": "stream",
     "text": [
      "3.0\n",
      "3.0\n",
      "[4.  4.  2.5 2. ]\n",
      "[2.5  3.75]\n"
     ]
    }
   ],
   "source": [
    "b=np.array([1,2,3,4,5])\n",
    "m=sum(b)/5\n",
    "print(m)\n",
    "\n",
    "print(np.mean(b))\n",
    "print(np.mean(a,axis=0))\n",
    "print(np.mean(a,axis=1))"
   ]
  },
  {
   "cell_type": "code",
   "execution_count": 110,
   "id": "59c7bf72-934a-4703-9f1e-65224833f41f",
   "metadata": {},
   "outputs": [
    {
     "name": "stdout",
     "output_type": "stream",
     "text": [
      "2.0\n",
      "2.4\n",
      "2.4\n"
     ]
    },
    {
     "ename": "NameError",
     "evalue": "name 'abc' is not defined",
     "output_type": "error",
     "traceback": [
      "\u001b[1;31m---------------------------------------------------------------------------\u001b[0m",
      "\u001b[1;31mNameError\u001b[0m                                 Traceback (most recent call last)",
      "Cell \u001b[1;32mIn[110], line 12\u001b[0m\n\u001b[0;32m      9\u001b[0m \u001b[38;5;66;03m#weighted mean=> n1*w1 +n2*w2/n1+n2\u001b[39;00m\n\u001b[0;32m     10\u001b[0m \u001b[38;5;66;03m#standard deviation\u001b[39;00m\n\u001b[0;32m     11\u001b[0m u\u001b[38;5;241m=\u001b[39mnp\u001b[38;5;241m.\u001b[39mmean(c)\n\u001b[1;32m---> 12\u001b[0m mystd\u001b[38;5;241m=\u001b[39mnp\u001b[38;5;241m.\u001b[39msqrt(np\u001b[38;5;241m.\u001b[39mmean(abc(c\u001b[38;5;241m-\u001b[39mu)\u001b[38;5;241m*\u001b[39m\u001b[38;5;241m*\u001b[39m\u001b[38;5;241m2\u001b[39m))\n\u001b[0;32m     13\u001b[0m \u001b[38;5;28mprint\u001b[39m(mystd)\n",
      "\u001b[1;31mNameError\u001b[0m: name 'abc' is not defined"
     ]
    }
   ],
   "source": [
    "c=np.array([1,5,4,2,0])\n",
    "print(np.median(c))\n",
    "\n",
    "#mean vs average is weighted\n",
    "print(np.mean(c))\n",
    "#weights\n",
    "w=np.array([1,1,1,1,1])\n",
    "print(np.average(c,weights=w))\n",
    "#weighted mean=> n1*w1 +n2*w2/n1+n2\n",
    "#standard deviation\n",
    "u=np.mean(c)\n",
    "mystd=np.sqrt(np.mean(abc(c-u)**2))\n",
    "print(mystd)"
   ]
  },
  {
   "cell_type": "code",
   "execution_count": null,
   "id": "a5cc525d-babc-4ed5-b6f6-7fb17b835d4f",
   "metadata": {},
   "outputs": [],
   "source": []
  }
 ],
 "metadata": {
  "kernelspec": {
   "display_name": "Python 3 (ipykernel)",
   "language": "python",
   "name": "python3"
  },
  "language_info": {
   "codemirror_mode": {
    "name": "ipython",
    "version": 3
   },
   "file_extension": ".py",
   "mimetype": "text/x-python",
   "name": "python",
   "nbconvert_exporter": "python",
   "pygments_lexer": "ipython3",
   "version": "3.11.7"
  }
 },
 "nbformat": 4,
 "nbformat_minor": 5
}
